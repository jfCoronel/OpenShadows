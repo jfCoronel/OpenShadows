{
 "cells": [
  {
   "cell_type": "code",
   "execution_count": null,
   "id": "058c1b15",
   "metadata": {},
   "outputs": [
    {
     "ename": "",
     "evalue": "",
     "output_type": "error",
     "traceback": [
      "\u001b[1;31mThe Kernel crashed while executing code in the current cell or a previous cell. \n",
      "\u001b[1;31mPlease review the code in the cell(s) to identify a possible cause of the failure. \n",
      "\u001b[1;31mClick <a href='https://aka.ms/vscodeJupyterKernelCrash'>here</a> for more info. \n",
      "\u001b[1;31mView Jupyter <a href='command:jupyter.viewOutput'>log</a> for further details."
     ]
    }
   ],
   "source": [
    "import OpenShadows as osh\n",
    "import math\n",
    "import numpy as np\n",
    "\n",
    "env = osh.Environment_3D()\n",
    "env.add_polygon_3D(osh.Polygon_3D(\"sur\",[0,0,0],0,0,[[0, 0], [5, 0], [5, 2], [0, 2]],holes2D=[[[1,0.5],[4,0.5],[4,1.5],[1,1.5]]]))\n",
    "#env.add_polygon_3D(osh.Polygon_3D(\"sur\",[0,0,0],0,0,[[0, 0], [5, 0], [5, 2], [0, 2]]))\n",
    "env.add_polygon_3D(osh.Polygon_3D(\"este\",[5,0,0],90,0,[[0, 0], [10, 0], [10, 2], [0, 2]]))\n",
    "env.add_polygon_3D(osh.Polygon_3D(\"norte\",[5,10,0],180,0,[[0, 0], [5, 0], [5, 2], [0, 2]]))\n",
    "env.add_polygon_3D(osh.Polygon_3D(\"oeste\",[0,10,0],-90,0,[[0, 0], [10, 0], [10, 2], [0, 2]]))\n",
    "env.add_polygon_3D(osh.Polygon_3D(\"techo\",[0,0,2],0,90,[[0, 0], [5, 0], [5, 10], [0, 10]]))\n",
    "env.add_polygon_3D(osh.Polygon_3D(\"suelo\",[0,10,0],0,-90,[[0, 0], [0, 10], [5, 10], [5, 0]]))\n",
    "env.add_polygon_3D(osh.Polygon_3D(\"Sombra\",[-5,-5,0],0,0,[[0, 0], [15, 0], [15, 5], [0, 5]],color=\"blue\"))\n",
    "#env.add_polygon_3D(osh.Polygon_3D(\"Sombra2\",[10,-5,0],180,0,[[0, 0], [15, 0], [15, 5], [0, 5]],color=\"blue\"))\n",
    "#env.add_polygon_3D(osh.Polygon_3D(\"terreno\",[-30,-30,-0.0],0,90,[[0, 0], [60, 0], [60, 60], [0, 60]],holes2D=[[[30,30],[35,30],[35,40],[30,40]]]))#env.add_polygon_3D(osh.Polygon_3D(\"terreno\",[-30,-30,-0.0],0,90,[[0, 0], [60, 0], [60, 60], [0, 60]],shading=False))\n",
    "\n",
    "sun_azimuth = math.radians(10)\n",
    "sun_altitude = math.radians(60)\n",
    "sun_position = np.array([math.sin(sun_azimuth) * math.cos(sun_altitude), -math.cos(sun_azimuth) * math.cos(sun_altitude), math.sin(sun_altitude)])\n",
    "env.calculate_shadows(sun_position)\n",
    "env.show(\"sunny+shadows\",window=True)\n"
   ]
  },
  {
   "cell_type": "code",
   "execution_count": null,
   "id": "ad2aee3a",
   "metadata": {},
   "outputs": [],
   "source": []
  }
 ],
 "metadata": {
  "kernelspec": {
   "display_name": "openshadows",
   "language": "python",
   "name": "python3"
  },
  "language_info": {
   "codemirror_mode": {
    "name": "ipython",
    "version": 3
   },
   "file_extension": ".py",
   "mimetype": "text/x-python",
   "name": "python",
   "nbconvert_exporter": "python",
   "pygments_lexer": "ipython3",
   "version": "3.12.11"
  }
 },
 "nbformat": 4,
 "nbformat_minor": 5
}
