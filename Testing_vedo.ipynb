{
 "cells": [
  {
   "cell_type": "code",
   "execution_count": 8,
   "metadata": {
    "scrolled": false
   },
   "outputs": [
    {
     "data": {
      "text/plain": [
       "<vedo.plotter.Plotter at 0x167d73e90>"
      ]
     },
     "execution_count": 8,
     "metadata": {},
     "output_type": "execute_result"
    }
   ],
   "source": [
    "\"\"\"Align 2 shapes: a simple line to a polygonal mesh\"\"\"\n",
    "from vedo import *\n",
    "\n",
    "settings.default_backend = 'vtk' # or k3d, ipyvtk,trame or vtk\n",
    "\n",
    "limb = Mesh(\"panther.stl\")\n",
    "\n",
    "plt = Plotter()\n",
    "plt += [limb]\n",
    "plt.show(\"OpenShadows\",axes=1, viewup=\"z\", bg='bb')"
   ]
  },
  {
   "cell_type": "code",
   "execution_count": 9,
   "metadata": {},
   "outputs": [
    {
     "data": {
      "text/html": [
       "<table>\n",
       "<tr>\n",
       "<td>\n",
       "<img src='data:image/png;base64,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'></img>\n",
       "</td>\n",
       "<td style='text-align: center; vertical-align: center;'><br/>\n",
       "<b> Mesh: &nbsp&nbsp</b><b><a href=\"https://vedo.embl.es/docs/vedo/mesh.html#Mesh\" target=\"_blank\">vedo.mesh.Mesh</a></b><br/><code><i>(panther.stl)</i></code>\n",
       "<table>\n",
       "<tr><td><b> bounds </b> <br/> (x/y/z) </td><td>-7.823 ... 18.48<br/>-54.20 ... 53.85<br/>0 ... 36.17</td></tr>\n",
       "<tr><td><b> center of mass </b></td><td>(4.40, -1.79, 15.8)</td></tr>\n",
       "<tr><td><b> average size </b></td><td>33.409</td></tr>\n",
       "<tr><td><b> nr. points&nbsp/&nbspfaces </b></td><td>287&nbsp/&nbsp570</td></tr>\n",
       "\n",
       "\n",
       "</table>\n",
       "</table>"
      ],
      "text/plain": [
       "<vedo.mesh.Mesh at 0x167d70050>"
      ]
     },
     "execution_count": 9,
     "metadata": {},
     "output_type": "execute_result"
    }
   ],
   "source": [
    "limb"
   ]
  },
  {
   "cell_type": "code",
   "execution_count": null,
   "metadata": {},
   "outputs": [],
   "source": []
  }
 ],
 "metadata": {
  "kernelspec": {
   "display_name": "openshadows",
   "language": "python",
   "name": "python3"
  },
  "language_info": {
   "codemirror_mode": {
    "name": "ipython",
    "version": 3
   },
   "file_extension": ".py",
   "mimetype": "text/x-python",
   "name": "python",
   "nbconvert_exporter": "python",
   "pygments_lexer": "ipython3",
   "version": "3.12.11"
  }
 },
 "nbformat": 4,
 "nbformat_minor": 2
}
